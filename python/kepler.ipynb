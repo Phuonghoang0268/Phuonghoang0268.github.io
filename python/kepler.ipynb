{
 "cells": [
  {
   "cell_type": "code",
   "execution_count": 1,
   "id": "2d25bf9c",
   "metadata": {},
   "outputs": [],
   "source": [
    "config={\n",
    "  \"version\": \"v1\",\n",
    "  \"config\": {\n",
    "    \"visState\": {\n",
    "      \"filters\": [\n",
    "        {\n",
    "          \"dataId\": [\n",
    "            \"trajectories\"\n",
    "          ],\n",
    "          \"id\": \"ci8tl8aip\",\n",
    "          \"name\": [\n",
    "            \"date_time\"\n",
    "          ],\n",
    "          \"type\": \"timeRange\",\n",
    "          \"value\": [\n",
    "            1376524868000,\n",
    "            1376747899999.9995\n",
    "          ],\n",
    "          \"enlarged\": True,\n",
    "          \"plotType\": \"histogram\",\n",
    "          \"animationWindow\": \"free\",\n",
    "          \"yAxis\": None\n",
    "        }\n",
    "      ],\n",
    "      \"layers\": [\n",
    "        {\n",
    "          \"id\": \"w0gvb3l\",\n",
    "          \"type\": \"geojson\",\n",
    "          \"config\": {\n",
    "            \"dataId\": \"trajectories\",\n",
    "            \"label\": \"trajectories\",\n",
    "            \"color\": [\n",
    "              136,\n",
    "              87,\n",
    "              44\n",
    "            ],\n",
    "            \"columns\": {\n",
    "              \"geojson\": \"geometry\"\n",
    "            },\n",
    "            \"isVisible\": True,\n",
    "            \"visConfig\": {\n",
    "              \"opacity\": 0.4,\n",
    "              \"strokeOpacity\": 0.8,\n",
    "              \"thickness\": 0.5,\n",
    "              \"strokeColor\": None,\n",
    "              \"colorRange\": {\n",
    "                \"name\": \"ColorBrewer Dark2-3\",\n",
    "                \"type\": \"qualitative\",\n",
    "                \"category\": \"ColorBrewer\",\n",
    "                \"colors\": [\n",
    "                  \"#1b9e77\",\n",
    "                  \"#d95f02\",\n",
    "                  \"#7570b3\"\n",
    "                ]\n",
    "              },\n",
    "              \"strokeColorRange\": {\n",
    "                \"name\": \"Global Warming\",\n",
    "                \"type\": \"sequential\",\n",
    "                \"category\": \"Uber\",\n",
    "                \"colors\": [\n",
    "                  \"#5A1846\",\n",
    "                  \"#900C3F\",\n",
    "                  \"#C70039\",\n",
    "                  \"#E3611C\",\n",
    "                  \"#F1920E\",\n",
    "                  \"#FFC300\"\n",
    "                ]\n",
    "              },\n",
    "              \"radius\": 8,\n",
    "              \"sizeRange\": [\n",
    "                0,\n",
    "                10\n",
    "              ],\n",
    "              \"radiusRange\": [\n",
    "                0,\n",
    "                50\n",
    "              ],\n",
    "              \"heightRange\": [\n",
    "                0,\n",
    "                500\n",
    "              ],\n",
    "              \"elevationScale\": 5,\n",
    "              \"stroked\": False,\n",
    "              \"filled\": True,\n",
    "              \"enable3d\": False,\n",
    "              \"wireframe\": False\n",
    "            },\n",
    "            \"hidden\": False,\n",
    "            \"textLabel\": [\n",
    "              {\n",
    "                \"field\": None,\n",
    "                \"color\": [\n",
    "                  255,\n",
    "                  255,\n",
    "                  255\n",
    "                ],\n",
    "                \"size\": 18,\n",
    "                \"offset\": [\n",
    "                  0,\n",
    "                  0\n",
    "                ],\n",
    "                \"anchor\": \"start\",\n",
    "                \"alignment\": \"center\"\n",
    "              }\n",
    "            ]\n",
    "          },\n",
    "          \"visualChannels\": {\n",
    "            \"colorField\": {\n",
    "              \"name\": \"bird_name\",\n",
    "              \"type\": \"string\"\n",
    "            },\n",
    "            \"colorScale\": \"ordinal\",\n",
    "            \"sizeField\": None,\n",
    "            \"sizeScale\": \"linear\",\n",
    "            \"strokeColorField\": None,\n",
    "            \"strokeColorScale\": \"quantile\",\n",
    "            \"heightField\": None,\n",
    "            \"heightScale\": \"linear\",\n",
    "            \"radiusField\": None,\n",
    "            \"radiusScale\": \"linear\"\n",
    "          }\n",
    "        },\n",
    "        {\n",
    "          \"id\": \"nsjcvzk\",\n",
    "          \"type\": \"geojson\",\n",
    "          \"config\": {\n",
    "            \"dataId\": \"stops\",\n",
    "            \"label\": \"stops\",\n",
    "            \"color\": [\n",
    "              18,\n",
    "              147,\n",
    "              154\n",
    "            ],\n",
    "            \"columns\": {\n",
    "              \"geojson\": \"geometry\"\n",
    "            },\n",
    "            \"isVisible\": True,\n",
    "            \"visConfig\": {\n",
    "              \"opacity\": 0.3,\n",
    "              \"strokeOpacity\": 0.8,\n",
    "              \"thickness\": 0.1,\n",
    "              \"strokeColor\": [\n",
    "                38,\n",
    "                26,\n",
    "                16\n",
    "              ],\n",
    "              \"colorRange\": {\n",
    "                \"name\": \"ColorBrewer Dark2-3\",\n",
    "                \"type\": \"qualitative\",\n",
    "                \"category\": \"ColorBrewer\",\n",
    "                \"colors\": [\n",
    "                  \"#1b9e77\",\n",
    "                  \"#d95f02\",\n",
    "                  \"#7570b3\"\n",
    "                ]\n",
    "              },\n",
    "              \"strokeColorRange\": {\n",
    "                \"name\": \"Global Warming\",\n",
    "                \"type\": \"sequential\",\n",
    "                \"category\": \"Uber\",\n",
    "                \"colors\": [\n",
    "                  \"#5A1846\",\n",
    "                  \"#900C3F\",\n",
    "                  \"#C70039\",\n",
    "                  \"#E3611C\",\n",
    "                  \"#F1920E\",\n",
    "                  \"#FFC300\"\n",
    "                ]\n",
    "              },\n",
    "              \"radius\": 10,\n",
    "              \"sizeRange\": [\n",
    "                0,\n",
    "                10\n",
    "              ],\n",
    "              \"radiusRange\": [\n",
    "                0,\n",
    "                50\n",
    "              ],\n",
    "              \"heightRange\": [\n",
    "                0,\n",
    "                500\n",
    "              ],\n",
    "              \"elevationScale\": 5,\n",
    "              \"stroked\": False,\n",
    "              \"filled\": True,\n",
    "              \"enable3d\": False,\n",
    "              \"wireframe\": False\n",
    "            },\n",
    "            \"hidden\": False,\n",
    "            \"textLabel\": [\n",
    "              {\n",
    "                \"field\": None,\n",
    "                \"color\": [\n",
    "                  255,\n",
    "                  255,\n",
    "                  255\n",
    "                ],\n",
    "                \"size\": 18,\n",
    "                \"offset\": [\n",
    "                  0,\n",
    "                  0\n",
    "                ],\n",
    "                \"anchor\": \"start\",\n",
    "                \"alignment\": \"center\"\n",
    "              }\n",
    "            ]\n",
    "          },\n",
    "          \"visualChannels\": {\n",
    "            \"colorField\": {\n",
    "              \"name\": \"bird\",\n",
    "              \"type\": \"string\"\n",
    "            },\n",
    "            \"colorScale\": \"ordinal\",\n",
    "            \"sizeField\": None,\n",
    "            \"sizeScale\": \"linear\",\n",
    "            \"strokeColorField\": None,\n",
    "            \"strokeColorScale\": \"quantile\",\n",
    "            \"heightField\": None,\n",
    "            \"heightScale\": \"linear\",\n",
    "            \"radiusField\": {\n",
    "              \"name\": \"duration_h\",\n",
    "              \"type\": \"real\"\n",
    "            },\n",
    "            \"radiusScale\": \"sqrt\"\n",
    "          }\n",
    "        }\n",
    "      ],\n",
    "      \"interactionConfig\": {\n",
    "        \"tooltip\": {\n",
    "          \"fieldsToShow\": {\n",
    "            \"stops\": [\n",
    "              {\n",
    "                \"name\": \"duration_h\",\n",
    "                \"format\": None\n",
    "              },\n",
    "              {\n",
    "                \"name\": \"length_m\",\n",
    "                \"format\": None\n",
    "              },\n",
    "              {\n",
    "                \"name\": \"bird\",\n",
    "                \"format\": None\n",
    "              },\n",
    "              {\n",
    "                \"name\": \"datetime\",\n",
    "                \"format\": None\n",
    "              }\n",
    "            ],\n",
    "            \"trajectories\": [\n",
    "              {\n",
    "                \"name\": \"index\",\n",
    "                \"format\": None\n",
    "              },\n",
    "              {\n",
    "                \"name\": \"altitude\",\n",
    "                \"format\": None\n",
    "              },\n",
    "              {\n",
    "                \"name\": \"date_time\",\n",
    "                \"format\": None\n",
    "              },\n",
    "              {\n",
    "                \"name\": \"device_info_serial\",\n",
    "                \"format\": None\n",
    "              },\n",
    "              {\n",
    "                \"name\": \"direction\",\n",
    "                \"format\": None\n",
    "              }\n",
    "            ]\n",
    "          },\n",
    "          \"compareMode\": False,\n",
    "          \"compareType\": \"absolute\",\n",
    "          \"enabled\": True\n",
    "        },\n",
    "        \"brush\": {\n",
    "          \"size\": 0.5,\n",
    "          \"enabled\": False\n",
    "        },\n",
    "        \"geocoder\": {\n",
    "          \"enabled\": False\n",
    "        },\n",
    "        \"coordinate\": {\n",
    "          \"enabled\": False\n",
    "        }\n",
    "      },\n",
    "      \"layerBlending\": \"normal\",\n",
    "      \"splitMaps\": [],\n",
    "      \"animationConfig\": {\n",
    "        \"currentTime\": None,\n",
    "        \"speed\": 1\n",
    "      }\n",
    "    },\n",
    "    \"mapState\": {\n",
    "      \"bearing\": 0,\n",
    "      \"dragRotate\": False,\n",
    "      \"latitude\": 33.37989411119247,\n",
    "      \"longitude\": 25.985929059513722,\n",
    "      \"pitch\": 0,\n",
    "      \"zoom\": 3.249643007871771,\n",
    "      \"isSplit\": False\n",
    "    },\n",
    "    \"mapStyle\": {\n",
    "      \"styleType\": \"dark\",\n",
    "      \"topLayerGroups\": {},\n",
    "      \"visibleLayerGroups\": {\n",
    "        \"label\": True,\n",
    "        \"road\": True,\n",
    "        \"border\": False,\n",
    "        \"building\": True,\n",
    "        \"water\": True,\n",
    "        \"land\": True,\n",
    "        \"3d building\": False\n",
    "      },\n",
    "      \"threeDBuildingColor\": [\n",
    "        9.665468314072013,\n",
    "        17.18305478057247,\n",
    "        31.1442867897876\n",
    "      ],\n",
    "      \"mapStyles\": {}\n",
    "    }\n",
    "  }\n",
    "}"
   ]
  },
  {
   "cell_type": "code",
   "execution_count": 2,
   "id": "initial_id",
   "metadata": {
    "ExecuteTime": {
     "end_time": "2025-08-20T09:50:51.089828Z",
     "start_time": "2025-08-20T09:50:51.084309Z"
    },
    "collapsed": true
   },
   "outputs": [],
   "source": [
    "import duckdb\n",
    "from shapely.geometry import Point\n",
    "import geopandas as gpd\n",
    "from pyproj import CRS\n",
    "# from keplergl import KeplerGl\n",
    "import pandas as pd"
   ]
  },
  {
   "cell_type": "code",
   "execution_count": 3,
   "id": "e9a871c7e2b9c10d",
   "metadata": {
    "ExecuteTime": {
     "end_time": "2025-08-20T09:50:51.156506Z",
     "start_time": "2025-08-20T09:50:51.100869Z"
    }
   },
   "outputs": [],
   "source": [
    "duckdb_folder = '../duckdb'\n",
    "data_folder = '../data'\n",
    "\n",
    "con = duckdb.connect(duckdb_folder+'/kepler.duckdb')"
   ]
  },
  {
   "cell_type": "code",
   "execution_count": 4,
   "id": "d1b0706ebf969922",
   "metadata": {
    "ExecuteTime": {
     "end_time": "2025-08-20T09:50:51.223666Z",
     "start_time": "2025-08-20T09:50:51.163086Z"
    }
   },
   "outputs": [],
   "source": [
    "data_raw = con.execute('SELECT * FROM \"trips\"').df()"
   ]
  },
  {
   "cell_type": "code",
   "execution_count": 5,
   "id": "a3816ed61d06c282",
   "metadata": {
    "ExecuteTime": {
     "end_time": "2025-08-20T09:50:51.252117Z",
     "start_time": "2025-08-20T09:50:51.236028Z"
    }
   },
   "outputs": [],
   "source": [
    "data=data_raw[:20000]"
   ]
  },
  {
   "cell_type": "code",
   "execution_count": 6,
   "id": "1ce88e242b906ff3",
   "metadata": {
    "ExecuteTime": {
     "end_time": "2025-08-20T09:50:51.475322Z",
     "start_time": "2025-08-20T09:50:51.364882Z"
    }
   },
   "outputs": [
    {
     "name": "stderr",
     "output_type": "stream",
     "text": [
      "/tmp/ipykernel_13674/2678564112.py:1: SettingWithCopyWarning: \n",
      "A value is trying to be set on a copy of a slice from a DataFrame.\n",
      "Try using .loc[row_indexer,col_indexer] = value instead\n",
      "\n",
      "See the caveats in the documentation: https://pandas.pydata.org/pandas-docs/stable/user_guide/indexing.html#returning-a-view-versus-a-copy\n",
      "  data['geometry'] = [Point(long, lat) for long, lat in zip(data['posx'].to_list(), data['posy'].to_list())]\n"
     ]
    },
    {
     "data": {
      "text/html": [
       "<div>\n",
       "<style scoped>\n",
       "    .dataframe tbody tr th:only-of-type {\n",
       "        vertical-align: middle;\n",
       "    }\n",
       "\n",
       "    .dataframe tbody tr th {\n",
       "        vertical-align: top;\n",
       "    }\n",
       "\n",
       "    .dataframe thead th {\n",
       "        text-align: right;\n",
       "    }\n",
       "</style>\n",
       "<table border=\"1\" class=\"dataframe\">\n",
       "  <thead>\n",
       "    <tr style=\"text-align: right;\">\n",
       "      <th></th>\n",
       "      <th>tripid</th>\n",
       "      <th>vehicleid</th>\n",
       "      <th>posx</th>\n",
       "      <th>posy</th>\n",
       "      <th>t</th>\n",
       "      <th>geometry</th>\n",
       "    </tr>\n",
       "  </thead>\n",
       "  <tbody>\n",
       "    <tr>\n",
       "      <th>0</th>\n",
       "      <td>1</td>\n",
       "      <td>1</td>\n",
       "      <td>4.457924</td>\n",
       "      <td>50.889049</td>\n",
       "      <td>2020-06-01 11:48:50.886000+02:00</td>\n",
       "      <td>POINT (4.45792 50.88905)</td>\n",
       "    </tr>\n",
       "    <tr>\n",
       "      <th>1</th>\n",
       "      <td>1</td>\n",
       "      <td>1</td>\n",
       "      <td>4.457894</td>\n",
       "      <td>50.889028</td>\n",
       "      <td>2020-06-01 11:48:52.386000+02:00</td>\n",
       "      <td>POINT (4.45789 50.88903)</td>\n",
       "    </tr>\n",
       "    <tr>\n",
       "      <th>2</th>\n",
       "      <td>1</td>\n",
       "      <td>1</td>\n",
       "      <td>4.457721</td>\n",
       "      <td>50.888909</td>\n",
       "      <td>2020-06-01 11:48:57.523414+02:00</td>\n",
       "      <td>POINT (4.45772 50.88891)</td>\n",
       "    </tr>\n",
       "    <tr>\n",
       "      <th>3</th>\n",
       "      <td>1</td>\n",
       "      <td>1</td>\n",
       "      <td>4.457928</td>\n",
       "      <td>50.888690</td>\n",
       "      <td>2020-06-01 11:49:05.623414+02:00</td>\n",
       "      <td>POINT (4.45793 50.88869)</td>\n",
       "    </tr>\n",
       "    <tr>\n",
       "      <th>4</th>\n",
       "      <td>1</td>\n",
       "      <td>1</td>\n",
       "      <td>4.457930</td>\n",
       "      <td>50.888689</td>\n",
       "      <td>2020-06-01 11:49:05.668849+02:00</td>\n",
       "      <td>POINT (4.45793 50.88869)</td>\n",
       "    </tr>\n",
       "    <tr>\n",
       "      <th>...</th>\n",
       "      <td>...</td>\n",
       "      <td>...</td>\n",
       "      <td>...</td>\n",
       "      <td>...</td>\n",
       "      <td>...</td>\n",
       "      <td>...</td>\n",
       "    </tr>\n",
       "    <tr>\n",
       "      <th>19995</th>\n",
       "      <td>10</td>\n",
       "      <td>1</td>\n",
       "      <td>4.410637</td>\n",
       "      <td>50.801712</td>\n",
       "      <td>2020-06-05 00:14:04.531535+02:00</td>\n",
       "      <td>POINT (4.41064 50.80171)</td>\n",
       "    </tr>\n",
       "    <tr>\n",
       "      <th>19996</th>\n",
       "      <td>10</td>\n",
       "      <td>1</td>\n",
       "      <td>4.410675</td>\n",
       "      <td>50.801728</td>\n",
       "      <td>2020-06-05 00:14:05.131535+02:00</td>\n",
       "      <td>POINT (4.41068 50.80173)</td>\n",
       "    </tr>\n",
       "    <tr>\n",
       "      <th>19997</th>\n",
       "      <td>10</td>\n",
       "      <td>1</td>\n",
       "      <td>4.410713</td>\n",
       "      <td>50.801743</td>\n",
       "      <td>2020-06-05 00:14:06.131535+02:00</td>\n",
       "      <td>POINT (4.41071 50.80174)</td>\n",
       "    </tr>\n",
       "    <tr>\n",
       "      <th>19998</th>\n",
       "      <td>10</td>\n",
       "      <td>1</td>\n",
       "      <td>4.411239</td>\n",
       "      <td>50.801961</td>\n",
       "      <td>2020-06-05 00:14:14.531535+02:00</td>\n",
       "      <td>POINT (4.41124 50.80196)</td>\n",
       "    </tr>\n",
       "    <tr>\n",
       "      <th>19999</th>\n",
       "      <td>10</td>\n",
       "      <td>1</td>\n",
       "      <td>4.411259</td>\n",
       "      <td>50.801969</td>\n",
       "      <td>2020-06-05 00:14:14.857324+02:00</td>\n",
       "      <td>POINT (4.41126 50.80197)</td>\n",
       "    </tr>\n",
       "  </tbody>\n",
       "</table>\n",
       "<p>20000 rows × 6 columns</p>\n",
       "</div>"
      ],
      "text/plain": [
       "       tripid  vehicleid      posx       posy  \\\n",
       "0           1          1  4.457924  50.889049   \n",
       "1           1          1  4.457894  50.889028   \n",
       "2           1          1  4.457721  50.888909   \n",
       "3           1          1  4.457928  50.888690   \n",
       "4           1          1  4.457930  50.888689   \n",
       "...       ...        ...       ...        ...   \n",
       "19995      10          1  4.410637  50.801712   \n",
       "19996      10          1  4.410675  50.801728   \n",
       "19997      10          1  4.410713  50.801743   \n",
       "19998      10          1  4.411239  50.801961   \n",
       "19999      10          1  4.411259  50.801969   \n",
       "\n",
       "                                     t                  geometry  \n",
       "0     2020-06-01 11:48:50.886000+02:00  POINT (4.45792 50.88905)  \n",
       "1     2020-06-01 11:48:52.386000+02:00  POINT (4.45789 50.88903)  \n",
       "2     2020-06-01 11:48:57.523414+02:00  POINT (4.45772 50.88891)  \n",
       "3     2020-06-01 11:49:05.623414+02:00  POINT (4.45793 50.88869)  \n",
       "4     2020-06-01 11:49:05.668849+02:00  POINT (4.45793 50.88869)  \n",
       "...                                ...                       ...  \n",
       "19995 2020-06-05 00:14:04.531535+02:00  POINT (4.41064 50.80171)  \n",
       "19996 2020-06-05 00:14:05.131535+02:00  POINT (4.41068 50.80173)  \n",
       "19997 2020-06-05 00:14:06.131535+02:00  POINT (4.41071 50.80174)  \n",
       "19998 2020-06-05 00:14:14.531535+02:00  POINT (4.41124 50.80196)  \n",
       "19999 2020-06-05 00:14:14.857324+02:00  POINT (4.41126 50.80197)  \n",
       "\n",
       "[20000 rows x 6 columns]"
      ]
     },
     "execution_count": 6,
     "metadata": {},
     "output_type": "execute_result"
    }
   ],
   "source": [
    "data['geometry'] = [Point(long, lat) for long, lat in zip(data['posx'].to_list(), data['posy'].to_list())]\n",
    "geodata = gpd.GeoDataFrame(data, crs = CRS.from_epsg('4326'))\n",
    "geodata"
   ]
  },
  {
   "cell_type": "code",
   "execution_count": 7,
   "id": "1e9a7f806605ceb8",
   "metadata": {
    "ExecuteTime": {
     "end_time": "2025-08-20T09:50:51.770079Z",
     "start_time": "2025-08-20T09:50:51.733334Z"
    }
   },
   "outputs": [
    {
     "name": "stdout",
     "output_type": "stream",
     "text": [
      "(20000, 6)\n"
     ]
    },
    {
     "data": {
      "text/html": [
       "<div>\n",
       "<style scoped>\n",
       "    .dataframe tbody tr th:only-of-type {\n",
       "        vertical-align: middle;\n",
       "    }\n",
       "\n",
       "    .dataframe tbody tr th {\n",
       "        vertical-align: top;\n",
       "    }\n",
       "\n",
       "    .dataframe thead th {\n",
       "        text-align: right;\n",
       "    }\n",
       "</style>\n",
       "<table border=\"1\" class=\"dataframe\">\n",
       "  <thead>\n",
       "    <tr style=\"text-align: right;\">\n",
       "      <th></th>\n",
       "      <th>tripid</th>\n",
       "      <th>vehicleid</th>\n",
       "      <th>posx</th>\n",
       "      <th>posy</th>\n",
       "      <th>t</th>\n",
       "      <th>geometry</th>\n",
       "    </tr>\n",
       "    <tr>\n",
       "      <th>time</th>\n",
       "      <th></th>\n",
       "      <th></th>\n",
       "      <th></th>\n",
       "      <th></th>\n",
       "      <th></th>\n",
       "      <th></th>\n",
       "    </tr>\n",
       "  </thead>\n",
       "  <tbody>\n",
       "    <tr>\n",
       "      <th>2020-06-01 11:48:50.886000</th>\n",
       "      <td>1</td>\n",
       "      <td>1</td>\n",
       "      <td>4.457924</td>\n",
       "      <td>50.889049</td>\n",
       "      <td>2020-06-01 11:48:50.886000+02:00</td>\n",
       "      <td>POINT (4.45792 50.88905)</td>\n",
       "    </tr>\n",
       "    <tr>\n",
       "      <th>2020-06-01 11:48:52.386000</th>\n",
       "      <td>1</td>\n",
       "      <td>1</td>\n",
       "      <td>4.457894</td>\n",
       "      <td>50.889028</td>\n",
       "      <td>2020-06-01 11:48:52.386000+02:00</td>\n",
       "      <td>POINT (4.45789 50.88903)</td>\n",
       "    </tr>\n",
       "    <tr>\n",
       "      <th>2020-06-01 11:48:57.523414</th>\n",
       "      <td>1</td>\n",
       "      <td>1</td>\n",
       "      <td>4.457721</td>\n",
       "      <td>50.888909</td>\n",
       "      <td>2020-06-01 11:48:57.523414+02:00</td>\n",
       "      <td>POINT (4.45772 50.88891)</td>\n",
       "    </tr>\n",
       "    <tr>\n",
       "      <th>2020-06-01 11:49:05.623414</th>\n",
       "      <td>1</td>\n",
       "      <td>1</td>\n",
       "      <td>4.457928</td>\n",
       "      <td>50.888690</td>\n",
       "      <td>2020-06-01 11:49:05.623414+02:00</td>\n",
       "      <td>POINT (4.45793 50.88869)</td>\n",
       "    </tr>\n",
       "    <tr>\n",
       "      <th>2020-06-01 11:49:05.668849</th>\n",
       "      <td>1</td>\n",
       "      <td>1</td>\n",
       "      <td>4.457930</td>\n",
       "      <td>50.888689</td>\n",
       "      <td>2020-06-01 11:49:05.668849+02:00</td>\n",
       "      <td>POINT (4.45793 50.88869)</td>\n",
       "    </tr>\n",
       "  </tbody>\n",
       "</table>\n",
       "</div>"
      ],
      "text/plain": [
       "                            tripid  vehicleid      posx       posy  \\\n",
       "time                                                                 \n",
       "2020-06-01 11:48:50.886000       1          1  4.457924  50.889049   \n",
       "2020-06-01 11:48:52.386000       1          1  4.457894  50.889028   \n",
       "2020-06-01 11:48:57.523414       1          1  4.457721  50.888909   \n",
       "2020-06-01 11:49:05.623414       1          1  4.457928  50.888690   \n",
       "2020-06-01 11:49:05.668849       1          1  4.457930  50.888689   \n",
       "\n",
       "                                                          t  \\\n",
       "time                                                          \n",
       "2020-06-01 11:48:50.886000 2020-06-01 11:48:50.886000+02:00   \n",
       "2020-06-01 11:48:52.386000 2020-06-01 11:48:52.386000+02:00   \n",
       "2020-06-01 11:48:57.523414 2020-06-01 11:48:57.523414+02:00   \n",
       "2020-06-01 11:49:05.623414 2020-06-01 11:49:05.623414+02:00   \n",
       "2020-06-01 11:49:05.668849 2020-06-01 11:49:05.668849+02:00   \n",
       "\n",
       "                                            geometry  \n",
       "time                                                  \n",
       "2020-06-01 11:48:50.886000  POINT (4.45792 50.88905)  \n",
       "2020-06-01 11:48:52.386000  POINT (4.45789 50.88903)  \n",
       "2020-06-01 11:48:57.523414  POINT (4.45772 50.88891)  \n",
       "2020-06-01 11:49:05.623414  POINT (4.45793 50.88869)  \n",
       "2020-06-01 11:49:05.668849  POINT (4.45793 50.88869)  "
      ]
     },
     "execution_count": 7,
     "metadata": {},
     "output_type": "execute_result"
    }
   ],
   "source": [
    "# Create timestamp with Pandas datetime. Inclue None as timezone\n",
    "geodata['time'] = pd.to_datetime(geodata['t']).dt.tz_localize(None)\n",
    "# Set timestamp as Index\n",
    "geodata = geodata.set_index('time')\n",
    "print(geodata.shape)\n",
    "geodata.head()\n"
   ]
  },
  {
   "cell_type": "code",
   "execution_count": 8,
   "id": "6f949e0332eb50f3",
   "metadata": {
    "ExecuteTime": {
     "end_time": "2025-08-20T09:50:52.671776Z",
     "start_time": "2025-08-20T09:50:52.635894Z"
    }
   },
   "outputs": [
    {
     "name": "stderr",
     "output_type": "stream",
     "text": [
      "/home/sakana/anaconda3/envs/mobil/lib/python3.10/site-packages/movingpandas/__init__.py:41: UserWarning: Missing optional dependencies. To use the trajectory smoother classes please install Stone Soup (see https://stonesoup.readthedocs.io/en/latest/#installation).\n",
      "  warnings.warn(e.msg, UserWarning)\n"
     ]
    }
   ],
   "source": [
    "import movingpandas as mpd\n",
    "traj_collection = mpd.TrajectoryCollection(geodata, 'tripid')"
   ]
  },
  {
   "cell_type": "code",
   "execution_count": 9,
   "id": "a357cc406326ce5b",
   "metadata": {
    "ExecuteTime": {
     "end_time": "2025-08-20T09:50:52.850582Z",
     "start_time": "2025-08-20T09:50:52.843739Z"
    }
   },
   "outputs": [
    {
     "data": {
      "text/plain": [
       "TrajectoryCollection with 10 trajectories"
      ]
     },
     "execution_count": 9,
     "metadata": {},
     "output_type": "execute_result"
    }
   ],
   "source": [
    "traj_collection"
   ]
  },
  {
   "cell_type": "code",
   "execution_count": 10,
   "id": "346bf514a14699a",
   "metadata": {
    "ExecuteTime": {
     "end_time": "2025-08-20T09:50:59.116181Z",
     "start_time": "2025-08-20T09:50:52.921226Z"
    }
   },
   "outputs": [],
   "source": [
    "from datetime import datetime, timedelta\n",
    "# Define parameters in Hours and Search radius in meters\n",
    "Second = 1\n",
    "Minutes = 1\n",
    "Hours = 12\n",
    "SearchRadio = 100\n",
    "# stop detection\n",
    "stops = mpd.TrajectoryStopDetector(traj_collection).get_stop_segments(min_duration=timedelta(seconds=1), max_diameter=SearchRadio)"
   ]
  },
  {
   "cell_type": "code",
   "execution_count": 11,
   "id": "6fadd8761024ca98",
   "metadata": {
    "ExecuteTime": {
     "end_time": "2025-08-20T09:50:59.186141Z",
     "start_time": "2025-08-20T09:50:59.180266Z"
    }
   },
   "outputs": [
    {
     "data": {
      "text/plain": [
       "TrajectoryCollection with 1067 trajectories"
      ]
     },
     "execution_count": 11,
     "metadata": {},
     "output_type": "execute_result"
    }
   ],
   "source": [
    "stops"
   ]
  },
  {
   "cell_type": "code",
   "execution_count": 12,
   "id": "d20036d5f82083ab",
   "metadata": {
    "ExecuteTime": {
     "end_time": "2025-08-20T09:50:59.267665Z",
     "start_time": "2025-08-20T09:50:59.254680Z"
    }
   },
   "outputs": [],
   "source": [
    "stops_start = gpd.GeoDataFrame(columns = ['geometry'])\n",
    "stops_start = stops_start.set_geometry('geometry')"
   ]
  },
  {
   "cell_type": "code",
   "execution_count": 13,
   "id": "69becf6419e0e532",
   "metadata": {
    "ExecuteTime": {
     "end_time": "2025-08-20T09:50:59.379423Z",
     "start_time": "2025-08-20T09:50:59.372605Z"
    }
   },
   "outputs": [],
   "source": [
    "stops_start['stop_id'] = [track.id for track in stops.trajectories]\n",
    "stops_start= stops_start.set_index('stop_id')\n"
   ]
  },
  {
   "cell_type": "code",
   "execution_count": 14,
   "id": "e6e4438429587ac0",
   "metadata": {
    "ExecuteTime": {
     "end_time": "2025-08-20T09:51:00.117139Z",
     "start_time": "2025-08-20T09:50:59.463602Z"
    }
   },
   "outputs": [
    {
     "name": "stdout",
     "output_type": "stream",
     "text": [
      "(1067, 5)\n"
     ]
    },
    {
     "data": {
      "text/html": [
       "<div>\n",
       "<style scoped>\n",
       "    .dataframe tbody tr th:only-of-type {\n",
       "        vertical-align: middle;\n",
       "    }\n",
       "\n",
       "    .dataframe tbody tr th {\n",
       "        vertical-align: top;\n",
       "    }\n",
       "\n",
       "    .dataframe thead th {\n",
       "        text-align: right;\n",
       "    }\n",
       "</style>\n",
       "<table border=\"1\" class=\"dataframe\">\n",
       "  <thead>\n",
       "    <tr style=\"text-align: right;\">\n",
       "      <th></th>\n",
       "      <th>geometry</th>\n",
       "      <th>duration_h</th>\n",
       "      <th>length_m</th>\n",
       "      <th>tripid</th>\n",
       "      <th>datetime</th>\n",
       "    </tr>\n",
       "    <tr>\n",
       "      <th>stop_id</th>\n",
       "      <th></th>\n",
       "      <th></th>\n",
       "      <th></th>\n",
       "      <th></th>\n",
       "      <th></th>\n",
       "    </tr>\n",
       "  </thead>\n",
       "  <tbody>\n",
       "    <tr>\n",
       "      <th>1_2020-06-01 11:48:50.886000</th>\n",
       "      <td>POINT (4.45792 50.88905)</td>\n",
       "      <td>0.008360</td>\n",
       "      <td>96.957224</td>\n",
       "      <td>1</td>\n",
       "      <td>2020-06-01 11:48:50.886000</td>\n",
       "    </tr>\n",
       "    <tr>\n",
       "      <th>1_2020-06-01 11:49:26.624003</th>\n",
       "      <td>POINT (4.45843 50.88818)</td>\n",
       "      <td>0.009625</td>\n",
       "      <td>89.403874</td>\n",
       "      <td>1</td>\n",
       "      <td>2020-06-01 11:49:26.624003</td>\n",
       "    </tr>\n",
       "    <tr>\n",
       "      <th>1_2020-06-01 11:50:04.874237</th>\n",
       "      <td>POINT (4.45968 50.88763)</td>\n",
       "      <td>0.009784</td>\n",
       "      <td>132.079704</td>\n",
       "      <td>1</td>\n",
       "      <td>2020-06-01 11:50:04.874237</td>\n",
       "    </tr>\n",
       "    <tr>\n",
       "      <th>1_2020-06-01 11:50:40.597012</th>\n",
       "      <td>POINT (4.46036 50.88704)</td>\n",
       "      <td>0.004817</td>\n",
       "      <td>84.711824</td>\n",
       "      <td>1</td>\n",
       "      <td>2020-06-01 11:50:40.597012</td>\n",
       "    </tr>\n",
       "    <tr>\n",
       "      <th>1_2020-06-01 11:51:01.899785</th>\n",
       "      <td>POINT (4.4605 50.88603)</td>\n",
       "      <td>0.007334</td>\n",
       "      <td>67.020078</td>\n",
       "      <td>1</td>\n",
       "      <td>2020-06-01 11:51:01.899785</td>\n",
       "    </tr>\n",
       "  </tbody>\n",
       "</table>\n",
       "</div>"
      ],
      "text/plain": [
       "                                              geometry  duration_h  \\\n",
       "stop_id                                                              \n",
       "1_2020-06-01 11:48:50.886000  POINT (4.45792 50.88905)    0.008360   \n",
       "1_2020-06-01 11:49:26.624003  POINT (4.45843 50.88818)    0.009625   \n",
       "1_2020-06-01 11:50:04.874237  POINT (4.45968 50.88763)    0.009784   \n",
       "1_2020-06-01 11:50:40.597012  POINT (4.46036 50.88704)    0.004817   \n",
       "1_2020-06-01 11:51:01.899785   POINT (4.4605 50.88603)    0.007334   \n",
       "\n",
       "                                length_m tripid                   datetime  \n",
       "stop_id                                                                     \n",
       "1_2020-06-01 11:48:50.886000   96.957224      1 2020-06-01 11:48:50.886000  \n",
       "1_2020-06-01 11:49:26.624003   89.403874      1 2020-06-01 11:49:26.624003  \n",
       "1_2020-06-01 11:50:04.874237  132.079704      1 2020-06-01 11:50:04.874237  \n",
       "1_2020-06-01 11:50:40.597012   84.711824      1 2020-06-01 11:50:40.597012  \n",
       "1_2020-06-01 11:51:01.899785   67.020078      1 2020-06-01 11:51:01.899785  "
      ]
     },
     "execution_count": 14,
     "metadata": {},
     "output_type": "execute_result"
    }
   ],
   "source": [
    "for stoptrack in stops.trajectories:\n",
    "\n",
    "    # add stop duration in hours\n",
    "    stops_start.at[stoptrack.id,'duration_h'] =stoptrack.get_duration().total_seconds()/3600\n",
    "\n",
    "    # add length\n",
    "    stops_start.at[stoptrack.id, 'length_m']=stoptrack.get_length()\n",
    "\n",
    "    # add bird name\n",
    "    stops_start.at[stoptrack.id, 'tripid']=stoptrack.id.split('_')[0]\n",
    "\n",
    "    # add datetime\n",
    "    stops_start.at[stoptrack.id, 'datetime']= pd.to_datetime(stoptrack.id.split('_')[1]).tz_localize(None)\n",
    "\n",
    "    # geometry with start point\n",
    "    stops_start.at[stoptrack.id, 'geometry'] = stoptrack.get_start_location()\n",
    "print(stops_start.shape)\n",
    "stops_start.head()\n"
   ]
  },
  {
   "cell_type": "code",
   "execution_count": 15,
   "id": "f0f2aae25a8ac5f5",
   "metadata": {
    "ExecuteTime": {
     "end_time": "2025-08-20T09:51:00.226780Z",
     "start_time": "2025-08-20T09:51:00.219493Z"
    }
   },
   "outputs": [],
   "source": [
    "# Reset indexes\n",
    "stops_start = stops_start.reset_index(drop=True)\n",
    "geodata= geodata.reset_index(drop=True)"
   ]
  },
  {
   "cell_type": "code",
   "execution_count": 16,
   "id": "a588d68ed416e229",
   "metadata": {
    "ExecuteTime": {
     "end_time": "2025-08-20T09:51:00.397182Z",
     "start_time": "2025-08-20T09:51:00.388211Z"
    }
   },
   "outputs": [
    {
     "name": "stdout",
     "output_type": "stream",
     "text": [
      "User Guide: https://docs.kepler.gl/docs/keplergl-jupyter\n"
     ]
    }
   ],
   "source": [
    "from keplergl import KeplerGl\n",
    "\n",
    "m = KeplerGl(height=600)"
   ]
  },
  {
   "cell_type": "code",
   "execution_count": 17,
   "id": "47446341b9b03847",
   "metadata": {
    "ExecuteTime": {
     "end_time": "2025-08-20T09:51:00.833844Z",
     "start_time": "2025-08-20T09:51:00.483273Z"
    }
   },
   "outputs": [],
   "source": [
    "# Add stop durations\n",
    "m.add_data(stops_start, 'stops')\n",
    "# Add gps records\n",
    "m.add_data(geodata, 'trajectories')"
   ]
  },
  {
   "cell_type": "code",
   "execution_count": 18,
   "id": "1932ea169ab0526a",
   "metadata": {
    "ExecuteTime": {
     "end_time": "2025-08-20T09:51:01.117926Z",
     "start_time": "2025-08-20T09:51:00.935061Z"
    }
   },
   "outputs": [
    {
     "data": {
      "application/vnd.jupyter.widget-view+json": {
       "model_id": "6d31fc4756e141a5a1b428b39ec8f464",
       "version_major": 2,
       "version_minor": 0
      },
      "text/plain": [
       "KeplerGl(data={'stops': {'index': [0, 1, 2, 3, 4, 5, 6, 7, 8, 9, 10, 11, 12, 13, 14, 15, 16, 17, 18, 19, 20, 2…"
      ]
     },
     "execution_count": 18,
     "metadata": {},
     "output_type": "execute_result"
    }
   ],
   "source": [
    "m"
   ]
  },
  {
   "cell_type": "code",
   "execution_count": 20,
   "id": "9443b43eca3e211d",
   "metadata": {
    "ExecuteTime": {
     "end_time": "2025-08-20T09:51:01.333797Z",
     "start_time": "2025-08-20T09:51:01.144876Z"
    }
   },
   "outputs": [
    {
     "name": "stdout",
     "output_type": "stream",
     "text": [
      "Map saved to index.html!\n"
     ]
    }
   ],
   "source": [
    "m.save_to_html(file_name='index.html', config=config, read_only=True)"
   ]
  }
 ],
 "metadata": {
  "kernelspec": {
   "display_name": "Python 3",
   "language": "python",
   "name": "python3"
  },
  "language_info": {
   "codemirror_mode": {
    "name": "ipython",
    "version": 3
   },
   "file_extension": ".py",
   "mimetype": "text/x-python",
   "name": "python",
   "nbconvert_exporter": "python",
   "pygments_lexer": "ipython3",
   "version": "3.10.18"
  }
 },
 "nbformat": 4,
 "nbformat_minor": 5
}
