{
 "cells": [
  {
   "cell_type": "code",
   "execution_count": null,
   "id": "initial_id",
   "metadata": {
    "collapsed": true
   },
   "outputs": [],
   "source": [
    "import os\n",
    "import duckdb\n",
    "\n",
    "duckdb_folder = '../duckdb'\n",
    "data_folder = '../data'\n",
    "\n",
    "con = duckdb.connect(duckdb_folder+'/kepler.duckdb')\n",
    "\n",
    "for file in os.listdir(data_folder):\n",
    "    if file.endswith(\".csv\"):\n",
    "        table_name = os.path.splitext(file)[0]  # use filename as table name\n",
    "        file_path = os.path.join(data_folder, file)\n",
    "        query = f\"\"\"\n",
    "            CREATE TABLE \"{table_name}\" AS\n",
    "            SELECT * FROM read_csv_auto('{file_path}')\n",
    "        \"\"\"\n",
    "        con.execute(query)\n",
    "\n",
    "# Show loaded tables\n",
    "print(con.execute(\"SHOW TABLES\").fetchall())\n"
   ]
  }
 ],
 "metadata": {
  "kernelspec": {
   "display_name": "Python 3",
   "language": "python",
   "name": "python3"
  },
  "language_info": {
   "codemirror_mode": {
    "name": "ipython",
    "version": 2
   },
   "file_extension": ".py",
   "mimetype": "text/x-python",
   "name": "python",
   "nbconvert_exporter": "python",
   "pygments_lexer": "ipython2",
   "version": "2.7.6"
  }
 },
 "nbformat": 4,
 "nbformat_minor": 5
}
